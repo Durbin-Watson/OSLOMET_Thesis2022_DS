{
 "cells": [
  {
   "cell_type": "markdown",
   "metadata": {},
   "source": [
    "# Building the pipeline for working with EEG data\n",
    "\n",
    "In this notebook\n",
    "- we build the codes to extract initial raw data;\n",
    "- we calculate different metrics as mesuares of functional connectivity;\n",
    "- based on calculated measures like Mutual Information and Coherence we create Adjacency Matrices; \n",
    "- we create graphs based on the previously calculated metrics;\n",
    "- make some plots to visualize the obtained graphs.\n",
    "\n",
    "MAYBE based on graphs we will train some graph convolutional neural networks..."
   ]
  },
  {
   "cell_type": "markdown",
   "metadata": {},
   "source": [
    "# 0 - Required packages\n",
    "\n"
   ]
  },
  {
   "cell_type": "markdown",
   "metadata": {},
   "source": [
    "# 1 - Datasets Links\n",
    "\n",
    "- Links for downloading the datasets: https://isip.piconepress.com/projects/tuh_eeg/html/downloads.shtml\n",
    "- Command for getting the data from the server: \"rsync -auxvL nedc@www.isip.piconepress.com:data/eeg/tuh_eeg_abnormal/v2.0.0/ .\" "
   ]
  },
  {
   "cell_type": "markdown",
   "metadata": {},
   "source": [
    "### Data engineering"
   ]
  },
  {
   "cell_type": "code",
   "execution_count": null,
   "metadata": {},
   "outputs": [],
   "source": []
  }
 ],
 "metadata": {
  "kernelspec": {
   "display_name": "Python 3",
   "language": "python",
   "name": "python3"
  },
  "language_info": {
   "codemirror_mode": {
    "name": "ipython",
    "version": 3
   },
   "file_extension": ".py",
   "mimetype": "text/x-python",
   "name": "python",
   "nbconvert_exporter": "python",
   "pygments_lexer": "ipython3",
   "version": "3.8.5"
  }
 },
 "nbformat": 4,
 "nbformat_minor": 4
}
